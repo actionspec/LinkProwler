{
 "cells": [
  {
   "cell_type": "code",
   "execution_count": 10,
   "metadata": {},
   "outputs": [],
   "source": [
    "import json \n",
    "import re\n",
    "import os"
   ]
  },
  {
   "cell_type": "code",
   "execution_count": 5,
   "metadata": {},
   "outputs": [
    {
     "name": "stdout",
     "output_type": "stream",
     "text": [
      "<class 'list'>\n"
     ]
    }
   ],
   "source": [
    "\n",
    "# TODO: open multiple files in this app, but one at a time. \n",
    "#with open('config.json') as input_file:\n",
    "#    var_name_here = json.load(input_file)\n",
    "\n",
    "directory_list = os.listdir(\"crawls/\")\n"
   ]
  },
  {
   "cell_type": "code",
   "execution_count": 6,
   "metadata": {},
   "outputs": [
    {
     "name": "stdout",
     "output_type": "stream",
     "text": [
      "1643224505-urlscrawled.json\n",
      "1643224840-urlscrawled.json\n",
      "1643225072-urlscrawled.json\n",
      "1643228836-urlscrawled.json\n",
      "1643228962-urlscrawled.json\n",
      "1643228991-urlscrawled.json\n"
     ]
    }
   ],
   "source": [
    "for item in directory_list:\n",
    "    with open(item) as scrape_file:\n",
    "        var_name_here = json.load(scrape_file)\n",
    "    "
   ]
  },
  {
   "cell_type": "code",
   "execution_count": 22,
   "metadata": {},
   "outputs": [
    {
     "name": "stdout",
     "output_type": "stream",
     "text": [
      "{'Internal URLs': [['https://actionspec.com/tech/cloudflare/', 'https://actionspec.com/blog/what-is-a-headless-cms/', 'https://actionspec.com/categories/server-software', 'https://actionspec.com/tech', 'https://actionspec.com/author/actionspec', 'mailto://team@actionspec.com', 'https://actionspec.com/tags/cms', 'https://actionspec.com/blog/should-i-use-apache-or-nginx/', 'https://actionspec.com/blog/3-tips-for-devops-success/', 'https://actionspec.com/tech/google-cloud/', 'https://actionspec.com/contact', 'https://actionspec.com/blog/make-wordpress-fast/', 'https://actionspec.com/blog/environmentally-friendly-devops-focused-hosting-companies/', 'https://actionspec.com/blog/3-things-to-know-about-wordpress-and-devops/', 'https://actionspec.com/tags/google', 'https://actionspec.com/tags/hugo', 'https://actionspec.com/tags/jpg-to-webp', 'https://actionspec.com/tech/flask/', 'https://actionspec.com/', 'https://actionspec.com/blog/5-reasons-we-left-wordpress-in-2021/', 'https://actionspec.com/tech/python/', 'https://actionspec.com/tags/scripts', 'https://actionspec.com/categories/tech-tips', 'https://actionspec.com/tags/jamstack', 'https://actionspec.com/tags/business-process', 'https://actionspec.com/tags/a2-hosting', 'https://actionspec.com/tags/speed', 'https://actionspec.com/tags/digital-ocean', 'https://actionspec.com/tags/web-servers', 'https://actionspec.com/tags/apache', 'https://actionspec.com/notice/notice-2/', 'https://actionspec.com/tags/nginx', 'https://actionspec.com/categories/cloud-hosting', 'https://actionspec.com/tech/ibm-watson/', 'https://actionspec.com/tags/devops', 'https://actionspec.com/notice/notice-1/', 'https://actionspec.com/blog', 'https://actionspec.com/tags/green-hosting', 'https://actionspec.com/tags/wordpress', 'https://actionspec.com/categories/devops-practices', 'https://actionspec.com/services', 'https://actionspec.com/blog/convert-image-to-webp-python/', 'https://actionspec.com/categories/digital-transformation', 'https://actionspec.com/tags/python', 'https://actionspec.com/about']], 'External URLs': [['https://ghost.org/', 'https://gohugo.io/', 'https://jekyllrb.com/', 'https://www.cminds.com/ultimate-guide-wordpress-statistics%E2%80%A8%E2%80%A8', 'https://www.linkedin.com/company/actionspec', 'https://github.com/actionspec', 'https://twitter.com/actionspec']]}\n"
     ]
    }
   ],
   "source": [
    "################## not for prod ##################\n",
    "with open('crawls/1643224505-urlscrawled.json') as scrape_file_test1:\n",
    "    scrape_file_test = json.load(scrape_file_test1)\n",
    "##################################################\n",
    "\n",
    "print(scrape_file_test)\n",
    "\n",
    "\n",
    "# def scrape_cleanup():\n"
   ]
  }
 ],
 "metadata": {
  "interpreter": {
   "hash": "63fd5069d213b44bf678585dea6b12cceca9941eaf7f819626cde1f2670de90d"
  },
  "kernelspec": {
   "display_name": "Python 3.9.2 64-bit",
   "language": "python",
   "name": "python3"
  },
  "language_info": {
   "codemirror_mode": {
    "name": "ipython",
    "version": 3
   },
   "file_extension": ".py",
   "mimetype": "text/x-python",
   "name": "python",
   "nbconvert_exporter": "python",
   "pygments_lexer": "ipython3",
   "version": "3.9.2"
  },
  "orig_nbformat": 4
 },
 "nbformat": 4,
 "nbformat_minor": 2
}
